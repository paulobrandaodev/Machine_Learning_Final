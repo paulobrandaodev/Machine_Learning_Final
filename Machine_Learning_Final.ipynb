{
 "cells": [
  {
   "cell_type": "markdown",
   "metadata": {},
   "source": [
    "# **MACHINE LEARNING**\n"
   ]
  },
  {
   "cell_type": "markdown",
   "metadata": {},
   "source": [
    "1. Apresentação de um problema real que pode ser resolvido com\n",
    "modelo supervisionado (2~3 slides contendo o tipo de problema e a\n",
    "técnica/modelo que resolveria);\n",
    "\n",
    "    Resposta : \n",
    "    Modelo   : "
   ]
  },
  {
   "cell_type": "markdown",
   "metadata": {},
   "source": [
    "2. Apresentação de um problema real que pode ser resolvido com\n",
    "modelo não-supervisionado (2~3 slides contendo o tipo de problema\n",
    "e a técnica/modelo que resolveria);\n",
    "\n",
    "    Resposta : Segmentação de carreira de alunos com base em performance em cada área de atuação escolar.\n",
    "    Modelo   : Clustering (K-Means)"
   ]
  },
  {
   "cell_type": "markdown",
   "metadata": {},
   "source": [
    "3. Apresentação de um problema real que pode ser resolvido usando ML,\n",
    "mas não precisa de fato;\n",
    "\n",
    "    Resposta : \n",
    "    Modelo   : "
   ]
  },
  {
   "cell_type": "markdown",
   "metadata": {},
   "source": [
    "4. Apresentar um problema implementado (com código), que pode ser:\n",
    "\n",
    "    a. Um artigo científico que usou algum modelo visto na disciplina\n",
    "    para resolver um determinado problema. <br>\n",
    "    b. Um problema de alguma competição (e.g. Kaggle) que usou\n",
    "    algum modelo visto na disciplina.<br>\n",
    "    c. Escolher qualquer problema que o grupo queira (da empresa\n",
    "    que trabalha, StartupOne) e criar uma aplicação de ML. "
   ]
  },
  {
   "cell_type": "code",
   "execution_count": null,
   "metadata": {},
   "outputs": [],
   "source": []
  }
 ],
 "metadata": {
  "kernelspec": {
   "display_name": "Python 3.10.8 64-bit",
   "language": "python",
   "name": "python3"
  },
  "language_info": {
   "codemirror_mode": {
    "name": "ipython",
    "version": 3
   },
   "file_extension": ".py",
   "mimetype": "text/x-python",
   "name": "python",
   "nbconvert_exporter": "python",
   "pygments_lexer": "ipython3",
   "version": "3.10.8"
  },
  "orig_nbformat": 4,
  "vscode": {
   "interpreter": {
    "hash": "da3baac93c1bcca463ee7a4217c27599da6788679b3643f0d7e490cf5d976fbc"
   }
  }
 },
 "nbformat": 4,
 "nbformat_minor": 2
}
